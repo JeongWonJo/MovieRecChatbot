{
 "cells": [
  {
   "cell_type": "code",
   "execution_count": 1,
   "metadata": {},
   "outputs": [],
   "source": [
    "# omdb에서 먼저 API키 가져와야 함\n",
    "# http://www.omdbapi.com/apikey.aspx\n",
    "\n",
    "def get_movie_detail(movie):\n",
    "    import requests\n",
    "    import json\n",
    "\n",
    "    api_key = \"YOUR API KEY\" # 본인 omdb API키 넣기\n",
    "    movie_detail = requests.get('http://www.omdbapi.com/?t={0}&apikey={1}'.format(movie, api_key)).content\n",
    "    movie_detail = json.loads(movie_detail)\n",
    "    movie_response = \"\"\"\n",
    "        Title : {0}\n",
    "        Released: {1}\n",
    "        Actors: {2}\n",
    "        Plot: {3}\n",
    "    \"\"\".format(movie_detail['Title'], movie_detail['Released'], movie_detail['Actors'], movie_detail['Plot'])\n",
    "\n",
    "    return movie_response"
   ]
  }
 ],
 "metadata": {
  "kernelspec": {
   "display_name": "Python 3",
   "language": "python",
   "name": "python3"
  },
  "language_info": {
   "codemirror_mode": {
    "name": "ipython",
    "version": 3
   },
   "file_extension": ".py",
   "mimetype": "text/x-python",
   "name": "python",
   "nbconvert_exporter": "python",
   "pygments_lexer": "ipython3",
   "version": "3.7.0"
  }
 },
 "nbformat": 4,
 "nbformat_minor": 2
}
